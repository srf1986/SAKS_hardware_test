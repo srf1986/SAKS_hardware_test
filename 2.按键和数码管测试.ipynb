{
 "cells": [
  {
   "cell_type": "markdown",
   "metadata": {},
   "source": [
    "# 下面代码是测试按键和数码管\n",
    "##注：本段代码，复制自：https://github.com/spoonysonny/SAKS-tutorials/tree/master/digital-stopwatch"
   ]
  },
  {
   "cell_type": "code",
   "execution_count": 1,
   "metadata": {},
   "outputs": [
    {
     "name": "stdout",
     "output_type": "stream",
     "text": [
      "程序终止\n"
     ]
    }
   ],
   "source": [
    "#!/usr/bin/env python\n",
    "# -*- coding: utf-8 -*-\n",
    "#\n",
    "# Copyright (c) 2015 NXEZ.COM.\n",
    "# http://www.nxez.com\n",
    "#\n",
    "# Licensed under the GNU General Public License, Version 2.0 (the \"License\");\n",
    "# you may not use this file except in compliance with the License.\n",
    "# You may obtain a copy of the License at\n",
    "#\n",
    "#   http://www.gnu.org/licenses/gpl-2.0.html\n",
    "#\n",
    "# Unless required by applicable law or agreed to in writing, software\n",
    "# distributed under the License is distributed on an \"AS IS\" BASIS,\n",
    "# WITHOUT WARRANTIES OR CONDITIONS OF ANY KIND, either express or implied.\n",
    "# See the License for the specific language governing permissions and\n",
    "# limitations under the License.\n",
    "# tutorials url: http://shumeipai.nxez.com/2015/12/13/saks-diy-tutorials-digital-stopwatch.html\n",
    "\n",
    "__author__ = 'Spoony'\n",
    "__license__  = 'Copyright (c) 2015 NXEZ.COM'\n",
    "\n",
    "from sakshat import SAKSHAT\n",
    "import time\n",
    "from datetime import datetime\n",
    "from sakspins import SAKSPins as PINS\n",
    "\n",
    "#Declare the SAKS Board\n",
    "SAKS = SAKSHAT()\n",
    "\n",
    "__start_time = datetime.utcnow()\n",
    "__end_time = datetime.utcnow()\n",
    "__timer_running = False\n",
    "\n",
    "#在检测到轻触开关触发时自动执行此函数\n",
    "def tact_event_handler(pin, status):\n",
    "    '''\n",
    "    called while the status of tacts changed\n",
    "    :param pin: pin number which stauts of tact is changed\n",
    "    :param status: current status\n",
    "    :return: void\n",
    "    '''\n",
    "    global __start_time\n",
    "    global __end_time\n",
    "    global __timer_running\n",
    "\n",
    "    if pin == PINS.TACT_RIGHT and status == True:\n",
    "        if __timer_running:\n",
    "            __end_time = datetime.utcnow()\n",
    "        else:\n",
    "            __start_time = datetime.utcnow()\n",
    "            SAKS.digital_display.show((\"%02d.%02d\" % (0, 0)))\n",
    "        __timer_running = not __timer_running\n",
    "\n",
    "if __name__ == \"__main__\":\n",
    "    #设定轻触开关回调函数\n",
    "    SAKS.tact_event_handler = tact_event_handler\n",
    "    SAKS.digital_display.show((\"%02d.%02d\" % (0, 0)))\n",
    "try:\n",
    "    while True:\n",
    "        if __timer_running:\n",
    "            __end_time = datetime.utcnow()\n",
    "            c = __end_time - __start_time\n",
    "            #print c.seconds\n",
    "            #print c.microseconds\n",
    "            SAKS.digital_display.show((\"%02d.%02d\" % (c.seconds, c.microseconds)))\n",
    "\n",
    "        time.sleep(0.01)\n",
    "    #input(\"Enter any keys to exit...\")\n",
    "except KeyboardInterrupt:\n",
    "    print (\"程序终止\")"
   ]
  },
  {
   "cell_type": "code",
   "execution_count": null,
   "metadata": {},
   "outputs": [],
   "source": []
  },
  {
   "cell_type": "code",
   "execution_count": null,
   "metadata": {},
   "outputs": [],
   "source": []
  }
 ],
 "metadata": {
  "kernelspec": {
   "display_name": "Python 3",
   "language": "python",
   "name": "python3"
  },
  "language_info": {
   "codemirror_mode": {
    "name": "ipython",
    "version": 3
   },
   "file_extension": ".py",
   "mimetype": "text/x-python",
   "name": "python",
   "nbconvert_exporter": "python",
   "pygments_lexer": "ipython3",
   "version": "3.7.3"
  }
 },
 "nbformat": 4,
 "nbformat_minor": 2
}
